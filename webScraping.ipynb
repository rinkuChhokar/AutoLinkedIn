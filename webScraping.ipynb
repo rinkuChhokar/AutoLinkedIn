{
 "cells": [
  {
   "cell_type": "markdown",
   "id": "e171cbb9",
   "metadata": {},
   "source": [
    "<h1>Web Scraping Project </h1>\n",
    "<h2>Automated LinkedIn Post Project</h2>"
   ]
  },
  {
   "cell_type": "code",
   "execution_count": 5,
   "id": "ca8fca2b",
   "metadata": {},
   "outputs": [
    {
     "name": "stderr",
     "output_type": "stream",
     "text": [
      "<ipython-input-5-7d4583ffcca3>:13: DeprecationWarning: executable_path has been deprecated, please pass in a Service object\n",
      "  driver=webdriver.Chrome('D:/PROJECTS/python projects/Web Scraping/chromedriver_win32/chromedriver.exe')\n"
     ]
    }
   ],
   "source": [
    "#Selenium imports here\n",
    "from selenium import webdriver\n",
    "from selenium.webdriver.common.keys import Keys\n",
    "from selenium.webdriver.support import expected_conditions as EC\n",
    "from selenium.webdriver.common.by import By\n",
    "from selenium.webdriver.support.wait import WebDriverWait\n",
    "\n",
    "\n",
    "import os\n",
    "\n",
    "\n",
    "\n",
    "driver=webdriver.Chrome('D:/PROJECTS/python projects/Web Scraping/chromedriver_win32/chromedriver.exe')\n",
    "driver.get('https://linkedin.com/')\n",
    "\n",
    "\n",
    "\n",
    "username = WebDriverWait(driver,10).until(EC.element_to_be_clickable((By.CSS_SELECTOR,\"input[name='session_key']\")))\n",
    "password = WebDriverWait(driver,10).until(EC.element_to_be_clickable((By.CSS_SELECTOR,\"input[name='session_password']\")))\n",
    "\n",
    "username.clear()\n",
    "password.clear()\n",
    "\n",
    "\n",
    "username.send_keys(\"globusnet007@gmail.com\")\n",
    "password.send_keys(\"linkr123\")\n",
    "\n",
    "\n",
    "sign_in = WebDriverWait(driver,10).until(EC.element_to_be_clickable((By.CSS_SELECTOR,\"button[type='submit']\"))).click()"
   ]
  },
  {
   "cell_type": "code",
   "execution_count": 6,
   "id": "2c961ee1",
   "metadata": {},
   "outputs": [],
   "source": [
    "searchbox= WebDriverWait(driver,10).until(EC.element_to_be_clickable((By.XPATH,\"//input[@placeholder='Search']\")))\n",
    "\n",
    "searchbox.clear()\n",
    "word=\"python developer\"\n",
    "\n",
    "searchbox.send_keys(word)\n",
    "\n"
   ]
  },
  {
   "cell_type": "code",
   "execution_count": 7,
   "id": "5a16908f",
   "metadata": {},
   "outputs": [],
   "source": [
    "searchbox.send_keys(Keys.ENTER)"
   ]
  },
  {
   "cell_type": "code",
   "execution_count": null,
   "id": "94971e52",
   "metadata": {},
   "outputs": [],
   "source": []
  }
 ],
 "metadata": {
  "kernelspec": {
   "display_name": "Python 3",
   "language": "python",
   "name": "python3"
  },
  "language_info": {
   "codemirror_mode": {
    "name": "ipython",
    "version": 3
   },
   "file_extension": ".py",
   "mimetype": "text/x-python",
   "name": "python",
   "nbconvert_exporter": "python",
   "pygments_lexer": "ipython3",
   "version": "3.9.2"
  }
 },
 "nbformat": 4,
 "nbformat_minor": 5
}
